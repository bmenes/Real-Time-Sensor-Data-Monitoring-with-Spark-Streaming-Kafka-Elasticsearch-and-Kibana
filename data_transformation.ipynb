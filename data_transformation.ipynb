{
 "cells": [
  {
   "cell_type": "code",
   "execution_count": 17,
   "id": "4ce6f741-f7dc-4f98-a20c-21ef7cdba5ec",
   "metadata": {},
   "outputs": [
    {
     "name": "stdout",
     "output_type": "stream",
     "text": [
      "           ts    co2 room        event_ts_min  ts_min_bignt  humidity  light  \\\n",
      "0  1377299108  495.0  413 2013-08-23 23:05:08    1377299108       NaN    NaN   \n",
      "1  1377299110  487.0  413 2013-08-23 23:05:10    1377299110       NaN    NaN   \n",
      "2  1377299127  496.0  413 2013-08-23 23:05:27    1377299127       NaN    NaN   \n",
      "3  1377299130  495.0  413 2013-08-23 23:05:30    1377299130       NaN    NaN   \n",
      "4  1377299134  500.0  413 2013-08-23 23:05:34    1377299134       NaN    NaN   \n",
      "\n",
      "   pir  temperature  humidity-checkpoint  light-checkpoint  \n",
      "0  NaN          NaN                  NaN               NaN  \n",
      "1  NaN          NaN                  NaN               NaN  \n",
      "2  NaN          NaN                  NaN               NaN  \n",
      "3  NaN          NaN                  NaN               NaN  \n",
      "4  NaN          NaN                  NaN               NaN  \n",
      "Veri işleme tamamlandı ve ./processed_sensor_data2.csv dosyasına kaydedildi.\n",
      "event_ts_min,ts_min_bignt,room,co2,humidity,light,pir,temperature\n",
      "\n",
      "2013-08-23 15:00:10,1377270010,511,,,,0.0,\n",
      "\n",
      "2013-08-23 15:00:20,1377270020,511,,,,0.0,\n",
      "\n",
      "2013-08-23 15:00:30,1377270030,511,,,,0.0,\n",
      "\n",
      "2013-08-23 15:00:40,1377270040,511,,,,0.0,\n",
      "\n"
     ]
    }
   ],
   "source": [
    "import os\n",
    "import pandas as pd\n",
    "\n",
    "# Veri seti dizini (dosyaların bulunduğu yer)\n",
    "data_dir = \"./KETI/\"\n",
    "\n",
    "# Her oda için CSV dosyalarını bulma\n",
    "csv_files = []\n",
    "for root, _, files in os.walk(data_dir):\n",
    "    for file in files:\n",
    "        if file.endswith(\".csv\"):\n",
    "            csv_files.append(os.path.join(root, file))\n",
    "\n",
    "# Her dosyayı okuyup işlemek için boş bir DataFrame oluştur\n",
    "all_data = []\n",
    "\n",
    "for file in csv_files:\n",
    "    # Sensör tipini ve oda bilgisini dosya yolundan al\n",
    "    sensor_type = os.path.basename(file).split('.')[0]\n",
    "    room = os.path.basename(os.path.dirname(file))\n",
    "    \n",
    "    # Dosyayı oku ve kolon isimlerini düzenle\n",
    "    df = pd.read_csv(file)\n",
    "    df.columns = ['ts', sensor_type]\n",
    "    df[\"room\"] = room\n",
    "    \n",
    "    # Zaman damgasını datetime formatına çevir ve ts_min_bignt ve event_ts_min kolonlarını ekle\n",
    "    df['event_ts_min'] = pd.to_datetime(df['ts'], unit='s')\n",
    "    df['ts_min_bignt'] = df['ts']\n",
    "    \n",
    "    all_data.append(df)\n",
    "    \n",
    "# Her dosyanın içeriğini birleştirme\n",
    "combined_df = pd.concat(all_data, axis=0)\n",
    "\n",
    "# combined_df'in ilk birkaç satırını kontrol edelim\n",
    "print(combined_df.head())\n",
    "\n",
    "# Aynı zaman ve oda için verileri birleştirmek için pivot table kullanma\n",
    "pivot_df = combined_df.pivot_table(index=['event_ts_min', 'ts_min_bignt', 'room'], \n",
    "                                   values=['co2', 'humidity', 'light', 'pir', 'temperature'],\n",
    "                                   aggfunc='first').reset_index()\n",
    "\n",
    "# Sonuçları bir CSV dosyasına kaydet\n",
    "output_file = \"./processed_sensor_data2.csv\"\n",
    "pivot_df.to_csv(output_file, index=False)\n",
    "\n",
    "print(f\"Veri işleme tamamlandı ve {output_file} dosyasına kaydedildi.\")\n",
    "\n",
    "# Kaydedilen dosyanın ilk birkaç satırını kontrol et\n",
    "with open(output_file, 'r') as f:\n",
    "    lines = f.readlines()\n",
    "    for line in lines[:5]:  # İlk 5 satırı yazdır\n",
    "        print(line)\n"
   ]
  },
  {
   "cell_type": "code",
   "execution_count": 20,
   "id": "479bfde5-4a3a-458a-9f17-97dd1d452b74",
   "metadata": {},
   "outputs": [
    {
     "name": "stdout",
     "output_type": "stream",
     "text": [
      "Temizlenmiş veri seti ./cleaned_sensor_data2.csv dosyasına kaydedildi.\n"
     ]
    }
   ],
   "source": [
    "import pandas as pd\n",
    "\n",
    "# İşlenmiş veriyi yükle\n",
    "processed_file = \"./processed_sensor_data2.csv\"\n",
    "df = pd.read_csv(processed_file)\n",
    "\n",
    "# Eksik değerleri içeren satırları çıkarma\n",
    "df = df.dropna(subset=['co2', 'humidity', 'light', 'pir', 'temperature'])\n",
    "\n",
    "# Sensör değerlerinin tümü 0 olan satırları çıkarma\n",
    "columns_to_check = ['co2', 'humidity', 'light', 'pir', 'temperature']\n",
    "df_filtered = df[(df[columns_to_check] != 0).any(axis=1)]\n",
    "\n",
    "# Filtrelenmiş veri setini kaydetme\n",
    "filtered_file = \"./cleaned_sensor_data2.csv\"\n",
    "df_filtered.to_csv(filtered_file, index=False)\n",
    "\n",
    "print(f\"Temizlenmiş veri seti {filtered_file} dosyasına kaydedildi.\")\n"
   ]
  },
  {
   "cell_type": "code",
   "execution_count": null,
   "id": "c2720f00-d24b-4ec5-8667-82bd8d2096d4",
   "metadata": {},
   "outputs": [],
   "source": []
  },
  {
   "cell_type": "code",
   "execution_count": null,
   "id": "2d9125ea-19aa-4f14-9388-181f5dd7a01c",
   "metadata": {},
   "outputs": [],
   "source": []
  },
  {
   "cell_type": "code",
   "execution_count": null,
   "id": "57fdb450-5f5e-4581-a26b-ba8664d4074e",
   "metadata": {},
   "outputs": [],
   "source": []
  }
 ],
 "metadata": {
  "kernelspec": {
   "display_name": "Python 3 (ipykernel)",
   "language": "python",
   "name": "python3"
  },
  "language_info": {
   "codemirror_mode": {
    "name": "ipython",
    "version": 3
   },
   "file_extension": ".py",
   "mimetype": "text/x-python",
   "name": "python",
   "nbconvert_exporter": "python",
   "pygments_lexer": "ipython3",
   "version": "3.12.2"
  }
 },
 "nbformat": 4,
 "nbformat_minor": 5
}
